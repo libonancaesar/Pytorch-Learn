{
 "cells": [
  {
   "cell_type": "markdown",
   "metadata": {
    "colab_type": "text",
    "id": "view-in-github"
   },
   "source": [
    "<a href=\"https://colab.research.google.com/github/mrdbourke/pytorch-deep-learning/blob/main/extras/solutions/01_pytorch_workflow_exercise_solutions.ipynb\" target=\"_parent\"><img src=\"https://colab.research.google.com/assets/colab-badge.svg\" alt=\"Open In Colab\"/></a>"
   ]
  },
  {
   "cell_type": "markdown",
   "metadata": {
    "id": "N8LsPXZti9Sw"
   },
   "source": [
    "# 01. PyTorch Workflow Exercise Solutions\n",
    "\n",
    "The following is **one possible set** (there may be more than one way to do things) of solutions for the 01. PyTorch WorkFlow Exercise template.\n",
    "\n",
    "You can see more form [solutions on GitHub](https://github.com/mrdbourke/pytorch-deep-learning/tree/main/extras/solutions) (but try the exercises yourself first!)."
   ]
  },
  {
   "cell_type": "code",
   "execution_count": 1,
   "metadata": {
    "id": "Glu2fM4dkNlx"
   },
   "outputs": [],
   "source": [
    "# Import necessary libraries\n",
    "import torch\n",
    "from torch import nn\n",
    "import matplotlib.pyplot as plt"
   ]
  },
  {
   "cell_type": "code",
   "execution_count": 2,
   "metadata": {
    "colab": {
     "base_uri": "https://localhost:8080/",
     "height": 35
    },
    "id": "LqKhXY26m31s",
    "outputId": "f377013d-e5a1-455e-a2ec-dd69ebc28f59"
   },
   "outputs": [
    {
     "data": {
      "application/vnd.google.colaboratory.intrinsic+json": {
       "type": "string"
      },
      "text/plain": [
       "'cuda'"
      ]
     },
     "execution_count": 2,
     "metadata": {},
     "output_type": "execute_result"
    }
   ],
   "source": [
    "# Setup device-agnostic code\n",
    "device = \"cuda\" if torch.cuda.is_available() else \"cpu\"\n",
    "device"
   ]
  },
  {
   "cell_type": "markdown",
   "metadata": {
    "id": "g7HUhxCxjeBx"
   },
   "source": [
    "## 1. Create a straight line dataset using the linear regression formula (`weight * X + bias`).\n",
    "  * Set `weight=0.3` and `bias=0.9` there should be at least 100 datapoints total. \n",
    "  * Split the data into 80% training, 20% testing.\n",
    "  * Plot the training and testing data so it becomes visual."
   ]
  },
  {
   "cell_type": "code",
   "execution_count": 3,
   "metadata": {
    "colab": {
     "base_uri": "https://localhost:8080/"
    },
    "id": "KbDG5MV7jhvE",
    "outputId": "caab93a9-3c1c-4a3b-ca64-0c85a088ab60"
   },
   "outputs": [
    {
     "name": "stdout",
     "output_type": "stream",
     "text": [
      "Number of X samples: 100\n",
      "Number of y samples: 100\n",
      "First 10 X & y samples:\n",
      "X: tensor([0.0000, 0.0100, 0.0200, 0.0300, 0.0400, 0.0500, 0.0600, 0.0700, 0.0800,\n",
      "        0.0900])\n",
      "y: tensor([0.9000, 0.9030, 0.9060, 0.9090, 0.9120, 0.9150, 0.9180, 0.9210, 0.9240,\n",
      "        0.9270])\n"
     ]
    }
   ],
   "source": [
    "# Create the data parameters\n",
    "weight = 0.3\n",
    "bias = 0.9\n",
    "start = 0\n",
    "stop = 1\n",
    "step = 0.01\n",
    "\n",
    "# Make X and y using linear regression feature\n",
    "X = torch.arange(start, stop, step)\n",
    "y = weight * X + bias\n",
    "\n",
    "print(f\"Number of X samples: {len(X)}\")\n",
    "print(f\"Number of y samples: {len(y)}\")\n",
    "print(f\"First 10 X & y samples:\\nX: {X[:10]}\\ny: {y[:10]}\")"
   ]
  },
  {
   "cell_type": "code",
   "execution_count": 4,
   "metadata": {
    "colab": {
     "base_uri": "https://localhost:8080/"
    },
    "id": "GlwtT1djkmLw",
    "outputId": "e2f13a46-6d71-46b7-af44-228de75f97e7"
   },
   "outputs": [
    {
     "data": {
      "text/plain": [
       "(80, 80, 20, 20)"
      ]
     },
     "execution_count": 4,
     "metadata": {},
     "output_type": "execute_result"
    }
   ],
   "source": [
    "# Split the data into training and testing\n",
    "train_split = int(0.8 * len(X)) # 80% for training split\n",
    "X_train, y_train = X[:train_split], y[:train_split]\n",
    "X_test, y_test = X[train_split:], y[train_split:]\n",
    "len(X_train), len(y_train), len(X_test), len(y_test)"
   ]
  },
  {
   "cell_type": "code",
   "execution_count": 5,
   "metadata": {
    "colab": {
     "base_uri": "https://localhost:8080/",
     "height": 428
    },
    "id": "29iQZFNhlYJ-",
    "outputId": "b1bbe46e-82b2-479b-89c0-8c622be3af9d"
   },
   "outputs": [
    {
     "data": {
      "image/png": "[encoded data removed]",
      "text/plain": [
       "<Figure size 720x504 with 1 Axes>"
      ]
     },
     "metadata": {
      "needs_background": "light"
     },
     "output_type": "display_data"
    }
   ],
   "source": [
    "# Plot the training and testing data \n",
    "def plot_predictions(train_data=X_train, \n",
    "                     train_labels=y_train, \n",
    "                     test_data=X_test, \n",
    "                     test_labels=y_test, \n",
    "                     predictions=None):\n",
    "  \"\"\"\n",
    "  Plots training data, test data and compares predictions.\n",
    "  \"\"\"\n",
    "  plt.figure(figsize=(10, 7))\n",
    "\n",
    "  # Plot training data in blue\n",
    "  plt.scatter(train_data, train_labels, c=\"b\", s=4, label=\"Training data\")\n",
    "  \n",
    "  # Plot test data in green\n",
    "  plt.scatter(test_data, test_labels, c=\"g\", s=4, label=\"Testing data\")\n",
    "\n",
    "  if predictions is not None:\n",
    "    # Plot the predictions in red (predictions were made on the test data)\n",
    "    plt.scatter(test_data, predictions, c=\"r\", s=4, label=\"Predictions\")\n",
    "\n",
    "  # Show the legend\n",
    "  plt.legend(prop={\"size\": 14});\n",
    "\n",
    "plot_predictions();"
   ]
  },
  {
   "cell_type": "markdown",
   "metadata": {
    "id": "ImZoe3v8jif8"
   },
   "source": [
    "## 2. Build a PyTorch model by subclassing `nn.Module`. \n",
    "  * Inside should be a randomly initialized `nn.Parameter()` with `requires_grad=True`, one for `weights` and one for `bias`. \n",
    "  * Implement the `forward()` method to compute the linear regression function you used to create the dataset in 1. \n",
    "  * Once you've constructed the model, make an instance of it and check its `state_dict()`.\n",
    "  * **Note:** If you'd like to use `nn.Linear()` instead of `nn.Parameter()` you can."
   ]
  },
  {
   "cell_type": "code",
   "execution_count": 6,
   "metadata": {
    "id": "qzd__Y5rjtB8"
   },
   "outputs": [],
   "source": [
    "## Option 1\n",
    "class LinearRegressionModel(nn.Module):\n",
    "  def __init__(self):\n",
    "    super().__init__()\n",
    "    self.weight = nn.Parameter(data=torch.randn(1, \n",
    "                                              requires_grad=True,\n",
    "                                              dtype=torch.float\n",
    "                                              ))\n",
    "    \n",
    "    self.bias = nn.Parameter(data=torch.randn(1, \n",
    "                                              requires_grad=True,\n",
    "                                              dtype=torch.float\n",
    "                                              ))\n",
    "\n",
    "  def forward(self, x):\n",
    "    return self.weight * x + self.bias\n",
    "\n",
    "## Option 2 (same as above instead using nn.Linear())\n",
    "# class LinearRegressionModel(nn.Module):\n",
    "#   def __init__(self):\n",
    "#     super().__init__()\n",
    "#     self.linear_layer = nn.Linear(in_features=1, \n",
    "#                                   out_features=1)\n",
    "  \n",
    "#   def forward(self, x):\n",
    "#     return self.linear_layer(x)"
   ]
  },
  {
   "cell_type": "code",
   "execution_count": 7,
   "metadata": {
    "colab": {
     "base_uri": "https://localhost:8080/"
    },
    "id": "5LdcDnmOmyQ2",
    "outputId": "f6e1be53-812a-4501-a3bc-4dcba4b287d6"
   },
   "outputs": [
    {
     "data": {
      "text/plain": [
       "LinearRegressionModel()"
      ]
     },
     "execution_count": 7,
     "metadata": {},
     "output_type": "execute_result"
    }
   ],
   "source": [
    "# Instantiate the model\n",
    "model = LinearRegressionModel().to(device)\n",
    "model"
   ]
  },
  {
   "cell_type": "markdown",
   "metadata": {
    "id": "G6nYOrJhjtfu"
   },
   "source": [
    "## 3. Create a loss function and optimizer using `nn.L1Loss()` and `torch.optim.SGD(params, lr)` respectively. \n",
    "  * Set the learning rate of the optimizer to be 0.01 and the parameters to optimize should be the model parameters from the model you created in 2.\n",
    "  * Write a training loop to perform the appropriate training steps for 300 epochs.\n",
    "  * The training loop should test the model on the test dataset every 20 epochs."
   ]
  },
  {
   "cell_type": "code",
   "execution_count": 8,
   "metadata": {
    "id": "ltvoZ-FWjv1j"
   },
   "outputs": [],
   "source": [
    "# Create the loss function and optimizer\n",
    "loss_fn = nn.L1Loss()\n",
    "optimizer = torch.optim.SGD(params=model.parameters(), lr=0.01)"
   ]
  },
  {
   "cell_type": "code",
   "execution_count": 9,
   "metadata": {
    "colab": {
     "base_uri": "https://localhost:8080/"
    },
    "id": "xpE83NvNnkdV",
    "outputId": "ae47b9f5-895f-4214-c94d-d045dd5ab0cf"
   },
   "outputs": [
    {
     "name": "stdout",
     "output_type": "stream",
     "text": [
      "Epoch: 0 | Train loss: 0.752 | Test loss: 0.523\n",
      "Epoch: 20 | Train loss: 0.521 | Test loss: 0.253\n",
      "Epoch: 40 | Train loss: 0.289 | Test loss: 0.032\n",
      "Epoch: 60 | Train loss: 0.155 | Test loss: 0.203\n",
      "Epoch: 80 | Train loss: 0.131 | Test loss: 0.258\n",
      "Epoch: 100 | Train loss: 0.122 | Test loss: 0.268\n",
      "Epoch: 120 | Train loss: 0.115 | Test loss: 0.262\n",
      "Epoch: 140 | Train loss: 0.108 | Test loss: 0.248\n",
      "Epoch: 160 | Train loss: 0.101 | Test loss: 0.233\n",
      "Epoch: 180 | Train loss: 0.094 | Test loss: 0.218\n",
      "Epoch: 200 | Train loss: 0.087 | Test loss: 0.203\n",
      "Epoch: 220 | Train loss: 0.080 | Test loss: 0.187\n",
      "Epoch: 240 | Train loss: 0.073 | Test loss: 0.172\n",
      "Epoch: 260 | Train loss: 0.067 | Test loss: 0.157\n",
      "Epoch: 280 | Train loss: 0.060 | Test loss: 0.140\n"
     ]
    }
   ],
   "source": [
    "# Training loop\n",
    "torch.manual_seed(42)\n",
    "\n",
    "# Train model for 300 epochs\n",
    "epochs = 300\n",
    "\n",
    "# Send data to device\n",
    "X_train, y_train = X_train.to(device), y_train.to(device)\n",
    "X_test, y_test = X_test.to(device), y_test.to(device)\n",
    "\n",
    "for epoch in range(epochs):\n",
    "  ### Training\n",
    "\n",
    "  # Model in train mode\n",
    "  model.train()\n",
    "\n",
    "  # 1. Forward pass\n",
    "  y_preds = model(X_train)\n",
    "\n",
    "  # 2. Calculate loss\n",
    "  loss = loss_fn(y_preds, y_train)\n",
    "\n",
    "  # 3. Zero gradients\n",
    "  optimizer.zero_grad()\n",
    "\n",
    "  # 4. Backpropagation\n",
    "  loss.backward()\n",
    "\n",
    "  # 5. Step the optimizer\n",
    "  optimizer.step()\n",
    "\n",
    "  ### Perform testing every 20 epochs\n",
    "  if epoch % 20 == 0:\n",
    "\n",
    "    # Put model in evaluation mode and setup inference context \n",
    "    model.eval()\n",
    "    with torch.inference_mode():\n",
    "      # 1. Forward pass\n",
    "      test_pred = model(X_test)\n",
    "      # 2. Calculate loss\n",
    "      test_loss = loss_fn(test_pred, y_test)\n",
    "\n",
    "      # Print out what's happening\n",
    "      print(f\"Epoch: {epoch} | Train loss: {loss:.3f} | Test loss: {test_loss:.3f}\")"
   ]
  },
  {
   "cell_type": "markdown",
   "metadata": {
    "id": "x4j4TM18jwa7"
   },
   "source": [
    "## 4. Make predictions with the trained model on the test data.\n",
    "  * Visualize these predictions against the original training and testing data (**note:** you may need to make sure the predictions are *not* on the GPU if you want to use non-CUDA-enabled libraries such as matplotlib to plot)."
   ]
  },
  {
   "cell_type": "code",
   "execution_count": 10,
   "metadata": {
    "colab": {
     "base_uri": "https://localhost:8080/"
    },
    "id": "bbMPK5Qjjyx_",
    "outputId": "0a0910d9-1525-4684-b600-97c8da429e00"
   },
   "outputs": [
    {
     "data": {
      "text/plain": [
       "tensor([1.2401, 1.2457, 1.2513, 1.2570, 1.2626, 1.2682, 1.2739, 1.2795, 1.2851,\n",
       "        1.2908], device='cuda:0')"
      ]
     },
     "execution_count": 10,
     "metadata": {},
     "output_type": "execute_result"
    }
   ],
   "source": [
    "# Make predictions with the model\n",
    "model.eval()\n",
    "with torch.inference_mode():\n",
    "  y_preds = model(X_test)\n",
    "y_preds[:10]"
   ]
  },
  {
   "cell_type": "code",
   "execution_count": 11,
   "metadata": {
    "colab": {
     "base_uri": "https://localhost:8080/",
     "height": 428
    },
    "id": "K3BdmQaDpFo8",
    "outputId": "bb3606a9-a0cf-42ae-f0e9-5e99c9fcd91c"
   },
   "outputs": [
    {
     "data": {
      "image/png": "[encoded data removed]",
      "text/plain": [
       "<Figure size 720x504 with 1 Axes>"
      ]
     },
     "metadata": {
      "needs_background": "light"
     },
     "output_type": "display_data"
    }
   ],
   "source": [
    "# Plot the predictions\n",
    "plot_predictions(predictions=y_preds.cpu());"
   ]
  },
  {
   "cell_type": "markdown",
   "metadata": {
    "id": "s2OnlMWKjzX8"
   },
   "source": [
    "## 5. Save your trained model's `state_dict()` to file.\n",
    "  * Create a new instance of your model class you made in 2. and load in the `state_dict()` you just saved to it.\n",
    "  * Perform predictions on your test data with the loaded model and confirm they match the original model predictions from 4."
   ]
  },
  {
   "cell_type": "code",
   "execution_count": 12,
   "metadata": {
    "colab": {
     "base_uri": "https://localhost:8080/"
    },
    "id": "hgxhgD14qr-i",
    "outputId": "768e4cca-4c19-4db7-b32a-1dcdf31ff9fe"
   },
   "outputs": [
    {
     "name": "stdout",
     "output_type": "stream",
     "text": [
      "Saving model to: models/01_pytorch_workflow_exercises_model.pth\n"
     ]
    }
   ],
   "source": [
    "from pathlib import Path\n",
    "\n",
    "# 1. Create models directory \n",
    "MODEL_PATH = Path(\"models\")\n",
    "MODEL_PATH.mkdir(parents=True, exist_ok=True)\n",
    "\n",
    "# 2. Create model save path \n",
    "MODEL_NAME = \"01_pytorch_workflow_exercises_model.pth\"\n",
    "MODEL_SAVE_PATH = MODEL_PATH / MODEL_NAME\n",
    "\n",
    "# 3. Save the model state dict\n",
    "print(f\"Saving model to: {MODEL_SAVE_PATH}\")\n",
    "torch.save(obj=model.state_dict(),\n",
    "           f=MODEL_SAVE_PATH)"
   ]
  },
  {
   "cell_type": "code",
   "execution_count": 13,
   "metadata": {
    "colab": {
     "base_uri": "https://localhost:8080/"
    },
    "id": "P9vTgiLRrJ7T",
    "outputId": "5a39883c-7bb0-474f-f56d-5e2879b02325"
   },
   "outputs": [
    {
     "data": {
      "text/plain": [
       "LinearRegressionModel()"
      ]
     },
     "execution_count": 13,
     "metadata": {},
     "output_type": "execute_result"
    }
   ],
   "source": [
    "# Create new instance of model and load saved state dict (make sure to put it on the target device)\n",
    "loaded_model = LinearRegressionModel()\n",
    "loaded_model.load_state_dict(torch.load(MODEL_SAVE_PATH))\n",
    "loaded_model.to(device)"
   ]
  },
  {
   "cell_type": "code",
   "execution_count": 14,
   "metadata": {
    "colab": {
     "base_uri": "https://localhost:8080/"
    },
    "id": "8UGX3VebrVtI",
    "outputId": "44e3b099-9151-41fa-fead-321e3d432106"
   },
   "outputs": [
    {
     "data": {
      "text/plain": [
       "tensor([True, True, True, True, True, True, True, True, True, True, True, True,\n",
       "        True, True, True, True, True, True, True, True], device='cuda:0')"
      ]
     },
     "execution_count": 14,
     "metadata": {},
     "output_type": "execute_result"
    }
   ],
   "source": [
    "# Make predictions with loaded model and compare them to the previous\n",
    "loaded_model.eval()\n",
    "with torch.inference_mode():\n",
    "  loaded_preds = loaded_model(X_test)\n",
    "y_preds == loaded_preds"
   ]
  }
 ],
 "metadata": {
  "accelerator": "GPU",
  "colab": {
   "authorship_tag": "ABX9TyMe9mIaRBo7Ep0wYiHT380R",
   "collapsed_sections": [],
   "include_colab_link": true,
   "name": "01_pytorch_workflow_exercise_solutions.ipynb",
   "provenance": []
  },
  "kernelspec": {
   "display_name": "Python 3 (ipykernel)",
   "language": "python",
   "name": "python3"
  },
  "language_info": {
   "codemirror_mode": {
    "name": "ipython",
    "version": 3
   },
   "file_extension": ".py",
   "mimetype": "text/x-python",
   "name": "python",
   "nbconvert_exporter": "python",
   "pygments_lexer": "ipython3",
   "version": "3.7.3"
  }
 },
 "nbformat": 4,
 "nbformat_minor": 1
}
